{
  "nbformat": 4,
  "nbformat_minor": 0,
  "metadata": {
    "colab": {
      "provenance": [],
      "authorship_tag": "ABX9TyPFGtshGed8QwKR1cFfjkxw",
      "include_colab_link": true
    },
    "kernelspec": {
      "name": "python3",
      "display_name": "Python 3"
    },
    "language_info": {
      "name": "python"
    }
  },
  "cells": [
    {
      "cell_type": "markdown",
      "metadata": {
        "id": "view-in-github",
        "colab_type": "text"
      },
      "source": [
        "<a href=\"https://colab.research.google.com/github/mariananlemos/combinandodataframes/blob/main/combinandodataframes.ipynb\" target=\"_parent\"><img src=\"https://colab.research.google.com/assets/colab-badge.svg\" alt=\"Open In Colab\"/></a>"
      ]
    },
    {
      "cell_type": "code",
      "source": [
        "import pandas as pd\n",
        "df1 = pd.DataFrame({'A': ['A0', 'A1', 'A2', 'A3'],\n",
        "                    'B': ['B0', 'B1', 'B2', 'B3'],\n",
        "                    'C': ['C0', 'C1', 'C2', 'C3'],\n",
        "                    'D': ['D0', 'D1', 'D2', 'D3']},\n",
        "                   index=[0, 1, 2, 3])"
      ],
      "metadata": {
        "id": "x8oClOwoLsb6"
      },
      "execution_count": null,
      "outputs": []
    },
    {
      "cell_type": "code",
      "source": [
        "import pandas as pd\n",
        "df2 = pd.DataFrame({'A': ['A0', 'A1', 'A2', 'A3'],\n",
        "                    'B': ['B0', 'B1', 'B2', 'B3'],\n",
        "                    'C': ['C0', 'C1', 'C2', 'C3'],\n",
        "                    'D': ['D0', 'D1', 'D2', 'D3']},\n",
        "                   index=[4, 5, 6, 7])"
      ],
      "metadata": {
        "id": "QTOsw18kMJIQ"
      },
      "execution_count": null,
      "outputs": []
    },
    {
      "cell_type": "code",
      "source": [
        "import pandas as pd\n",
        "df3 = pd.DataFrame({'A':['A0', 'A1', 'A2', 'A3'],\n",
        "                    'B':['B0', 'B1', 'B2', 'B3'],\n",
        "                    'C':['C0', 'C1', 'C2', 'C3'],\n",
        "                    'D': ['D0', 'D1', 'D2', 'D3']},\n",
        "                   index=[8, 9, 10, 11])"
      ],
      "metadata": {
        "id": "tWFTrWPIMJgd"
      },
      "execution_count": null,
      "outputs": []
    },
    {
      "cell_type": "code",
      "source": [
        "df1"
      ],
      "metadata": {
        "id": "gOyeZ28gMcn6"
      },
      "execution_count": null,
      "outputs": []
    },
    {
      "cell_type": "code",
      "source": [
        "df2"
      ],
      "metadata": {
        "id": "tKs7Mnd0Mc33"
      },
      "execution_count": null,
      "outputs": []
    },
    {
      "cell_type": "code",
      "source": [
        "df3"
      ],
      "metadata": {
        "id": "KCQDdJqfMc-x"
      },
      "execution_count": null,
      "outputs": []
    },
    {
      "cell_type": "code",
      "source": [
        "import pandas as pd\n",
        "\n",
        "cadastro_a = {'Id': ['AA2930', 'BB4563', 'CC2139', 'DE2521', 'GT3462', 'HH1158'],\n",
        "              'Nome': ['Victor', 'Amanda', 'Bruna', 'Carlos', 'Ricardo', 'Maria'],\n",
        "              'Idade': [20,35,40,54,30,27],\n",
        "              'CEP': ['00092-029', '11111-111', '22222-888', '00000-999', '88888-111', '77777-666']\n",
        "              }\n",
        "cadastro_a = pd.DataFrame(cadastro_a, columns = ['Id', 'Nome', 'Idade', 'CEP'])\n",
        "cadastro_a\n",
        "\n",
        "cadastro_b = {'Id': ['CC9999', 'EF4488', 'DD9999', 'GT3462', 'HH1158'],\n",
        "              'Nome': ['Marcos', 'Patricia', 'Ericka', 'Ricardo', 'Maria'],\n",
        "              'Idade': [19,30,22,30,27],\n",
        "              'CEP': ['33333-333', '22222-222', '44444-444', '88888-111', '77777-666']\n",
        "              }\n",
        "cadastro_b = pd.DataFrame(cadastro_b, columns = ['Id', 'Nome', 'Idade', 'CEP'])\n",
        "cadastro_b\n",
        "\n",
        "pd.merge(cadastro_a, cadastro_b[['Id', 'Idade', 'CEP']], on=['Id'], how=\"inner\")\n",
        "\n",
        "pd.merge(cadastro_a, cadastro_b[['Id', 'Idade', 'CEP']], on=['Id'], how=\"inner\", suffixes=('_A', '_B'))\n",
        "\n",
        "pd.merge(cadastro_a, cadastro_b, on=[\"Id\"], how=\"inner\")\n",
        "\n",
        "\n",
        "lojas = pd.concat([cadastro_a, cadastro_b], ignore_indez=True)\n",
        "clientes_unicos = lojas.drop_duplicates(subset='Id')\n",
        "clientes_unicos"
      ],
      "metadata": {
        "colab": {
          "base_uri": "https://localhost:8080/",
          "height": 112
        },
        "id": "1NbMpAOEglEn",
        "outputId": "4192e43b-499a-4900-925e-8b4fe52495ba"
      },
      "execution_count": null,
      "outputs": [
        {
          "output_type": "execute_result",
          "data": {
            "text/plain": [
              "       Id   Nome_x  Idade_x      CEP_x   Nome_y  Idade_y      CEP_y\n",
              "0  GT3462  Ricardo       30  88888-111  Ricardo       30  88888-111\n",
              "1  HH1158    Maria       27  77777-666    Maria       27  77777-666"
            ],
            "text/html": [
              "\n",
              "  <div id=\"df-2ec39505-477a-4dc8-babe-d00d46cbe361\">\n",
              "    <div class=\"colab-df-container\">\n",
              "      <div>\n",
              "<style scoped>\n",
              "    .dataframe tbody tr th:only-of-type {\n",
              "        vertical-align: middle;\n",
              "    }\n",
              "\n",
              "    .dataframe tbody tr th {\n",
              "        vertical-align: top;\n",
              "    }\n",
              "\n",
              "    .dataframe thead th {\n",
              "        text-align: right;\n",
              "    }\n",
              "</style>\n",
              "<table border=\"1\" class=\"dataframe\">\n",
              "  <thead>\n",
              "    <tr style=\"text-align: right;\">\n",
              "      <th></th>\n",
              "      <th>Id</th>\n",
              "      <th>Nome_x</th>\n",
              "      <th>Idade_x</th>\n",
              "      <th>CEP_x</th>\n",
              "      <th>Nome_y</th>\n",
              "      <th>Idade_y</th>\n",
              "      <th>CEP_y</th>\n",
              "    </tr>\n",
              "  </thead>\n",
              "  <tbody>\n",
              "    <tr>\n",
              "      <th>0</th>\n",
              "      <td>GT3462</td>\n",
              "      <td>Ricardo</td>\n",
              "      <td>30</td>\n",
              "      <td>88888-111</td>\n",
              "      <td>Ricardo</td>\n",
              "      <td>30</td>\n",
              "      <td>88888-111</td>\n",
              "    </tr>\n",
              "    <tr>\n",
              "      <th>1</th>\n",
              "      <td>HH1158</td>\n",
              "      <td>Maria</td>\n",
              "      <td>27</td>\n",
              "      <td>77777-666</td>\n",
              "      <td>Maria</td>\n",
              "      <td>27</td>\n",
              "      <td>77777-666</td>\n",
              "    </tr>\n",
              "  </tbody>\n",
              "</table>\n",
              "</div>\n",
              "      <button class=\"colab-df-convert\" onclick=\"convertToInteractive('df-2ec39505-477a-4dc8-babe-d00d46cbe361')\"\n",
              "              title=\"Convert this dataframe to an interactive table.\"\n",
              "              style=\"display:none;\">\n",
              "        \n",
              "  <svg xmlns=\"http://www.w3.org/2000/svg\" height=\"24px\"viewBox=\"0 0 24 24\"\n",
              "       width=\"24px\">\n",
              "    <path d=\"M0 0h24v24H0V0z\" fill=\"none\"/>\n",
              "    <path d=\"M18.56 5.44l.94 2.06.94-2.06 2.06-.94-2.06-.94-.94-2.06-.94 2.06-2.06.94zm-11 1L8.5 8.5l.94-2.06 2.06-.94-2.06-.94L8.5 2.5l-.94 2.06-2.06.94zm10 10l.94 2.06.94-2.06 2.06-.94-2.06-.94-.94-2.06-.94 2.06-2.06.94z\"/><path d=\"M17.41 7.96l-1.37-1.37c-.4-.4-.92-.59-1.43-.59-.52 0-1.04.2-1.43.59L10.3 9.45l-7.72 7.72c-.78.78-.78 2.05 0 2.83L4 21.41c.39.39.9.59 1.41.59.51 0 1.02-.2 1.41-.59l7.78-7.78 2.81-2.81c.8-.78.8-2.07 0-2.86zM5.41 20L4 18.59l7.72-7.72 1.47 1.35L5.41 20z\"/>\n",
              "  </svg>\n",
              "      </button>\n",
              "      \n",
              "  <style>\n",
              "    .colab-df-container {\n",
              "      display:flex;\n",
              "      flex-wrap:wrap;\n",
              "      gap: 12px;\n",
              "    }\n",
              "\n",
              "    .colab-df-convert {\n",
              "      background-color: #E8F0FE;\n",
              "      border: none;\n",
              "      border-radius: 50%;\n",
              "      cursor: pointer;\n",
              "      display: none;\n",
              "      fill: #1967D2;\n",
              "      height: 32px;\n",
              "      padding: 0 0 0 0;\n",
              "      width: 32px;\n",
              "    }\n",
              "\n",
              "    .colab-df-convert:hover {\n",
              "      background-color: #E2EBFA;\n",
              "      box-shadow: 0px 1px 2px rgba(60, 64, 67, 0.3), 0px 1px 3px 1px rgba(60, 64, 67, 0.15);\n",
              "      fill: #174EA6;\n",
              "    }\n",
              "\n",
              "    [theme=dark] .colab-df-convert {\n",
              "      background-color: #3B4455;\n",
              "      fill: #D2E3FC;\n",
              "    }\n",
              "\n",
              "    [theme=dark] .colab-df-convert:hover {\n",
              "      background-color: #434B5C;\n",
              "      box-shadow: 0px 1px 3px 1px rgba(0, 0, 0, 0.15);\n",
              "      filter: drop-shadow(0px 1px 2px rgba(0, 0, 0, 0.3));\n",
              "      fill: #FFFFFF;\n",
              "    }\n",
              "  </style>\n",
              "\n",
              "      <script>\n",
              "        const buttonEl =\n",
              "          document.querySelector('#df-2ec39505-477a-4dc8-babe-d00d46cbe361 button.colab-df-convert');\n",
              "        buttonEl.style.display =\n",
              "          google.colab.kernel.accessAllowed ? 'block' : 'none';\n",
              "\n",
              "        async function convertToInteractive(key) {\n",
              "          const element = document.querySelector('#df-2ec39505-477a-4dc8-babe-d00d46cbe361');\n",
              "          const dataTable =\n",
              "            await google.colab.kernel.invokeFunction('convertToInteractive',\n",
              "                                                     [key], {});\n",
              "          if (!dataTable) return;\n",
              "\n",
              "          const docLinkHtml = 'Like what you see? Visit the ' +\n",
              "            '<a target=\"_blank\" href=https://colab.research.google.com/notebooks/data_table.ipynb>data table notebook</a>'\n",
              "            + ' to learn more about interactive tables.';\n",
              "          element.innerHTML = '';\n",
              "          dataTable['output_type'] = 'display_data';\n",
              "          await google.colab.output.renderOutput(dataTable, element);\n",
              "          const docLink = document.createElement('div');\n",
              "          docLink.innerHTML = docLinkHtml;\n",
              "          element.appendChild(docLink);\n",
              "        }\n",
              "      </script>\n",
              "    </div>\n",
              "  </div>\n",
              "  "
            ]
          },
          "metadata": {},
          "execution_count": 10
        }
      ]
    },
    {
      "cell_type": "code",
      "source": [
        "compras = {'Id': ['AA2930''AA2930', 'BB4563', 'CC2139', 'DE2521', 'GT3462', 'HH1158'],\n",
        "           'Data': ['2019-01-01', '2019-01-30', '2019-01-30', '2019-02-01', '2019-02-20', '2019-03-15', '2019-04-01', '2019-04-10'],\n",
        "           'Valor': [200,100,40,150,300,25,50,500]\n",
        "}\n",
        "compras = pd.DataFrame(compras, columns = ['Id', 'Data', 'Valor'])\n",
        "compras"
      ],
      "metadata": {
        "id": "o_dhgBWdrrmf"
      },
      "execution_count": null,
      "outputs": []
    },
    {
      "cell_type": "code",
      "source": [
        "#pd.merge(tabela_da_esquerda, tabela_da_direita, on=\"coluna_coincidente\", how=\"left|right|inner|outer\")"
      ],
      "metadata": {
        "id": "0HtfFBYlgFUm"
      },
      "execution_count": null,
      "outputs": []
    },
    {
      "cell_type": "code",
      "source": [
        "?pd.merge()"
      ],
      "metadata": {
        "id": "Q9qBx7l8gXoc"
      },
      "execution_count": null,
      "outputs": []
    },
    {
      "cell_type": "markdown",
      "source": [
        "merge e groupby"
      ],
      "metadata": {
        "id": "2QIT-4z2yD_f"
      }
    },
    {
      "cell_type": "code",
      "source": [
        "pd.merge(cadastro_a, compras, on=['Id'], how='left')"
      ],
      "metadata": {
        "id": "imE5jXnztpKa"
      },
      "execution_count": null,
      "outputs": []
    },
    {
      "cell_type": "code",
      "source": [
        "esquerda = pd.merge(cadastro_a, compras, on=['Id'], how='left')\n",
        "esquerda.groupby(['Id', 'Nome'])['Valor'].sum()"
      ],
      "metadata": {
        "id": "We1WrsQxvigj"
      },
      "execution_count": null,
      "outputs": []
    },
    {
      "cell_type": "code",
      "source": [
        "pd.merge(cadastro_a, cadastro_b, how='outer', on=['Id'], indicator=True)"
      ],
      "metadata": {
        "id": "yYmRFCtqv6a-"
      },
      "execution_count": null,
      "outputs": []
    },
    {
      "cell_type": "code",
      "source": [
        "import numpy as np\n",
        "\n",
        "v = [22,55,7,9]"
      ],
      "metadata": {
        "id": "KKMnG2pnwSnn"
      },
      "execution_count": null,
      "outputs": []
    },
    {
      "cell_type": "code",
      "source": [
        "v[2]"
      ],
      "metadata": {
        "id": "GPQz2yCqwykD"
      },
      "execution_count": null,
      "outputs": []
    },
    {
      "cell_type": "code",
      "source": [
        "v[0]"
      ],
      "metadata": {
        "id": "XwP_W2igw0Ee"
      },
      "execution_count": null,
      "outputs": []
    },
    {
      "cell_type": "markdown",
      "source": [
        "indexações"
      ],
      "metadata": {
        "id": "r_mVvUQnx98j"
      }
    },
    {
      "cell_type": "code",
      "source": [
        "import pandas as pd\n",
        "\n",
        "arrays =[[1,1,2,2], ['red', 'blue', 'red', 'blue']]\n",
        "pd.MultiIndex.from_arrays(arrays, names=('number', 'color'))"
      ],
      "metadata": {
        "id": "DY_N4hwtw3Xj"
      },
      "execution_count": null,
      "outputs": []
    },
    {
      "cell_type": "code",
      "source": [
        "numbers = [0,1,2]\n",
        "colors = ['green', 'purple']\n",
        "\n",
        "pd.MultiIndex.from_product([numbers, colors],\n",
        "                           names=('number', 'color'))"
      ],
      "metadata": {
        "id": "ujqpLI1dxV6a"
      },
      "execution_count": null,
      "outputs": []
    },
    {
      "cell_type": "markdown",
      "source": [
        "reshapin dados"
      ],
      "metadata": {
        "id": "mgJi3ED9yHw5"
      }
    },
    {
      "cell_type": "code",
      "source": [
        "import pandas as pd\n",
        "import numpy as np\n",
        "\n",
        "datas = pd.date_range('20200101', periods=6)\n",
        "df = pd.DataFrame(np.random.randn(6,4), index=datas, columns=['Var_A', 'Var_B', 'Var_C', 'Var_D'])"
      ],
      "metadata": {
        "id": "-jLOLVeqx1ZO"
      },
      "execution_count": null,
      "outputs": []
    },
    {
      "cell_type": "code",
      "source": [
        "df.T"
      ],
      "metadata": {
        "id": "uRZSEasJyodh"
      },
      "execution_count": null,
      "outputs": []
    },
    {
      "cell_type": "code",
      "source": [
        "df.shape"
      ],
      "metadata": {
        "id": "nVcXplH7ypmv"
      },
      "execution_count": null,
      "outputs": []
    },
    {
      "cell_type": "code",
      "source": [
        "dft.shape"
      ],
      "metadata": {
        "id": "QMxDrThAyvoN"
      },
      "execution_count": null,
      "outputs": []
    },
    {
      "cell_type": "code",
      "source": [
        "dft.values"
      ],
      "metadata": {
        "id": "XLL8OrXWyxTj"
      },
      "execution_count": null,
      "outputs": []
    },
    {
      "cell_type": "code",
      "source": [
        "v = dft.values\n",
        "v.reshape((2,12))"
      ],
      "metadata": {
        "id": "cWEzLCtey1zQ"
      },
      "execution_count": null,
      "outputs": []
    },
    {
      "cell_type": "markdown",
      "source": [
        "função pivot"
      ],
      "metadata": {
        "id": "arKW6l-VzudM"
      }
    },
    {
      "cell_type": "code",
      "source": [
        "import pandas as pd\n",
        "import numpy as np\n",
        "\n",
        "dias = pd.data_range(start='20190101', periods=12)\n",
        "\n",
        "Pessoa = ['George', 'Victor', 'Lucas']\n",
        "np.random.choice(Pessoa)"
      ],
      "metadata": {
        "id": "hQSeBCO0zCE_"
      },
      "execution_count": null,
      "outputs": []
    },
    {
      "cell_type": "code",
      "source": [
        "Nome=[]\n",
        "Gasto=[]\n",
        "for i in range(12):\n",
        "  Nome.append(np.random.choice(Pessoa))\n",
        "  Gasto.append(np.random.rand()*100)"
      ],
      "metadata": {
        "id": "HopmI8Ku0IrN"
      },
      "execution_count": null,
      "outputs": []
    },
    {
      "cell_type": "code",
      "source": [
        "df = pd.DataFrame({'Dia':dias,'Nome':Nome, 'Gasto':Gasto})"
      ],
      "metadata": {
        "id": "TPobHx630gUP"
      },
      "execution_count": null,
      "outputs": []
    },
    {
      "cell_type": "code",
      "source": [
        "df.pivot(index='Dia', columns='Nome', values='Gasto')"
      ],
      "metadata": {
        "id": "Ry5G-qKn0xRz"
      },
      "execution_count": null,
      "outputs": []
    },
    {
      "cell_type": "code",
      "source": [
        "import pandas as pd\n",
        "\n",
        "Carros =[7, 4, 3, 2, 8]\n",
        "\n",
        "dias = pd.date_range('20190101','20190101', periods=5)\n",
        "\n",
        "vendedor = ['George', 'Vagner', 'Pedro', 'Vagner', 'George']\n",
        "\n",
        "df = pd.DataFrame({'Vendas':Carros, 'Data':dias, 'Vendedor':vendedor})\n",
        "\n",
        "pd.pivot(df, index='Data',columns='Vendedor', values='Vendas')\n",
        "pd.pivot_table(df, index='Data',columns='Vendedor', values='Vendas',aggfunc='sum' )"
      ],
      "metadata": {
        "id": "LTJ8iV1f0_e3"
      },
      "execution_count": null,
      "outputs": []
    },
    {
      "cell_type": "code",
      "source": [
        "stack_df = df.stack"
      ],
      "metadata": {
        "id": "zH7d2cc92UC3"
      },
      "execution_count": null,
      "outputs": []
    },
    {
      "cell_type": "code",
      "source": [
        "udf = stack_df.unstack()"
      ],
      "metadata": {
        "id": "BIQCwmfy20Gn"
      },
      "execution_count": null,
      "outputs": []
    },
    {
      "cell_type": "code",
      "source": [
        "import pandas as pd\n",
        "\n",
        "data = {\n",
        "    \"localizacao\":['CidadeA', 'CidadeB'],\n",
        "    \"Temperatura\" : [\"Prevista\", \"Atual\"],\n",
        "    \"Set-2019\":[30, 32],\n",
        "    \"Out-2019\":[45, 43],\n",
        "    \"Nov-2019\":[24, 22]\n",
        "}\n",
        "print(data)\n",
        "\n",
        "df = pd.DataFrame(data, columns=['localizacao', 'Temperatura','Set-2019', 'Out-2019', 'Nov-2019'])\n",
        "print(df)\n",
        "\n",
        "df2 = pd.melt(df, id_vars=[\"localizacao\", \"Temperatura\"], var_name=\"Data\", value_name=\"Valor\")\n",
        "print(df2)\n",
        "\n",
        "df3 = pd.melt(df, id_vars=[\"localizacao\"], var_name=\"Data\", value_name=\"Valor\")\n",
        "print(df3)\n",
        "\n",
        "df2 = pd.melt(df, id_vars=[\"localizacao\"], var_name=\"Date\", value_name=\"Value\")\n",
        "print(df2)"
      ],
      "metadata": {
        "id": "xDeAUmTr24Xf"
      },
      "execution_count": null,
      "outputs": []
    },
    {
      "cell_type": "code",
      "source": [
        "import pandas as pd\n",
        "import numpy as np\n",
        "\n",
        "datas = pd.date_range('20180101', periods = 600, freq=\"D\")\n",
        "\n",
        "df = pd.DataFrame(np.random.randn(600,5), index = datas, columns = list(\"ABCDE\")) \n",
        "\n",
        "df.head(2)\n",
        "\n",
        "df['D'].head(5)\n",
        "\n",
        "df.head(10)\n",
        "\n",
        "df[1:5]\n",
        "\n",
        "df.loc[:, ['B','C','D']]\n",
        "\n",
        "df.head(3)\n",
        "\n",
        "f = df.loc['20180301':'20180917', ['A','E']]\n",
        "len(f)\n",
        "df.iloc[1:4, 1:3]\n",
        "df.iloc[[1,5,6], [0, 3]]\n",
        "\n",
        "df[df.A > 0]\n",
        "df[df > 0]"
      ],
      "metadata": {
        "id": "z0u7IcLp3ixG"
      },
      "execution_count": null,
      "outputs": []
    }
  ]
}